{
 "cells": [
  {
   "cell_type": "code",
   "execution_count": 14,
   "metadata": {},
   "outputs": [],
   "source": [
    "import csv"
   ]
  },
  {
   "cell_type": "code",
   "execution_count": 15,
   "metadata": {},
   "outputs": [],
   "source": [
    "lista_pets = [\"Max\", \"Rex\", \"Hunter\", \"Thor\", \"Batatinha\"]\n",
    "tupla_sercicos = (\n",
    "    (\"Banho\", 50.0),\n",
    "    (\"Tosa\", 80.0),\n",
    "    (\"Vacina\", 120.0)\n",
    ")\n",
    "agenda = {\n",
    "    \"chave\":{\n",
    "        \"tutor\":\"\",\n",
    "        \"servico\": \"\",\n",
    "        \"preco\": \"\",\n",
    "        \"data\": \"\"\n",
    "    }\n",
    "}"
   ]
  },
  {
   "cell_type": "code",
   "execution_count": 16,
   "metadata": {},
   "outputs": [],
   "source": [
    "for pet in lista_pets:\n",
    "    agenda[pet] = {\n",
    "        \"tutor\": \"\",\n",
    "        \"servico\": tupla_sercicos[0][0],\n",
    "        \"preco\": tupla_sercicos[0][1],\n",
    "        \"data\": \"\"\n",
    "    }\n",
    "\n",
    "    "
   ]
  },
  {
   "cell_type": "code",
   "execution_count": 20,
   "metadata": {},
   "outputs": [],
   "source": [
    "with open(\"petshop.csv\", \"w\", newline=\"\") as arquivo:\n",
    "    writer = csv.writer(arquivo)\n",
    "    writer.writerow(agenda)\n",
    "    writer.writerows(agenda)"
   ]
  },
  {
   "cell_type": "code",
   "execution_count": 17,
   "metadata": {},
   "outputs": [
    {
     "name": "stdout",
     "output_type": "stream",
     "text": [
      "['Max', 'Rex', 'Hunter', 'Thor', 'Batatinha']\n",
      "(('Banho', 50.0), ('Tosa', 80.0), ('Vacina', 120.0))\n",
      "{'chave': {'tutor': '', 'servico': '', 'preco': '', 'data': ''}, 'Max': {'tutor': '', 'servico': 'Banho', 'preco': 50.0, 'data': ''}, 'Rex': {'tutor': '', 'servico': 'Banho', 'preco': 50.0, 'data': ''}, 'Hunter': {'tutor': '', 'servico': 'Banho', 'preco': 50.0, 'data': ''}, 'Thor': {'tutor': '', 'servico': 'Banho', 'preco': 50.0, 'data': ''}, 'Batatinha': {'tutor': '', 'servico': 'Banho', 'preco': 50.0, 'data': ''}}\n"
     ]
    }
   ],
   "source": [
    "print(lista_pets)\n",
    "print(tupla_sercicos)\n",
    "print(agenda)"
   ]
  }
 ],
 "metadata": {
  "kernelspec": {
   "display_name": "Python 3",
   "language": "python",
   "name": "python3"
  },
  "language_info": {
   "codemirror_mode": {
    "name": "ipython",
    "version": 3
   },
   "file_extension": ".py",
   "mimetype": "text/x-python",
   "name": "python",
   "nbconvert_exporter": "python",
   "pygments_lexer": "ipython3",
   "version": "3.13.1"
  }
 },
 "nbformat": 4,
 "nbformat_minor": 2
}
