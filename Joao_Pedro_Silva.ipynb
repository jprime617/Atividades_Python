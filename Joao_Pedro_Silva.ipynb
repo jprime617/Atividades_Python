{
 "cells": [
  {
   "cell_type": "code",
   "execution_count": 1,
   "metadata": {},
   "outputs": [],
   "source": [
    "import csv"
   ]
  },
  {
   "cell_type": "code",
   "execution_count": null,
   "metadata": {},
   "outputs": [],
   "source": [
    "def adicionar_aluno():\n",
    "  lista_alunos = [\n",
    "      [\"Nome\", \"Idade\", \"Nota Final\"]\n",
    "  ]\n",
    "\n",
    "  while True:\n",
    "\n",
    "    select = str(input(\"Deseja fazer o cadastro de aluno? (s/n): \"))\n",
    "\n",
    "    if select.lower() == \"n\":\n",
    "      print(\"Fim do programa\")\n",
    "      break \n",
    "\n",
    "    nome = str(input(\"Digite o nome do aluno: \"))\n",
    "    idade = str(input(\"Digite a idade do aluno: \"))\n",
    "    nota = str(input(\"Digite a nota final do aluno: \"))\n",
    "\n",
    "    \n",
    "    lista_alunos.append([nome, idade, nota])\n",
    "    print(lista_alunos)\n",
    "\n",
    "    \n",
    "    with open(\"alunos.csv\", \"w\", newline=\"\", encoding=\"utf-8\") as arquivo:\n",
    "      writer = csv.writer(arquivo)\n",
    "      writer.writerows(lista_alunos)\n",
    "\n"
   ]
  },
  {
   "cell_type": "code",
   "execution_count": null,
   "metadata": {},
   "outputs": [
    {
     "name": "stdout",
     "output_type": "stream",
     "text": [
      "Nome            Idade      Nota Final\n",
      "-----------------------------------\n",
      "jonas           18         7         \n",
      "wonder of you   76         10        \n",
      "Leitura do arquivo concluida\n"
     ]
    }
   ],
   "source": [
    "with open(\"alunos.csv\", \"r\", encoding=\"utf-8\") as arquivo:\n",
    "    reader = csv.reader(arquivo)\n",
    "    cabecalho = next(reader)\n",
    "    print(f\"{cabecalho[0]:<15} {cabecalho[1]:<10} {cabecalho[2]:<10}\")\n",
    "    print('-'*35)\n",
    "\n",
    "    for linha in reader:\n",
    "        nome, idade, nota = linha\n",
    "        print(f\"{nome:<15} {idade:<10} {nota:<10}\")\n",
    "        \n",
    "print(\"Leitura do arquivo concluida\")"
   ]
  },
  {
   "cell_type": "code",
   "execution_count": 3,
   "metadata": {},
   "outputs": [
    {
     "name": "stdout",
     "output_type": "stream",
     "text": [
      "[['Nome', 'Idade', 'Nota Final'], ['jonas', '18', '7']]\n",
      "[['Nome', 'Idade', 'Nota Final'], ['jonas', '18', '7'], ['wonder of you', '76', '10']]\n",
      "Fim do programa\n"
     ]
    }
   ],
   "source": [
    "adicionar_aluno()"
   ]
  }
 ],
 "metadata": {
  "kernelspec": {
   "display_name": "Python 3",
   "language": "python",
   "name": "python3"
  },
  "language_info": {
   "codemirror_mode": {
    "name": "ipython",
    "version": 3
   },
   "file_extension": ".py",
   "mimetype": "text/x-python",
   "name": "python",
   "nbconvert_exporter": "python",
   "pygments_lexer": "ipython3",
   "version": "3.13.1"
  }
 },
 "nbformat": 4,
 "nbformat_minor": 2
}
