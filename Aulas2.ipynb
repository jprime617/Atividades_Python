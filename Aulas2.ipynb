{
 "cells": [
  {
   "cell_type": "markdown",
   "metadata": {},
   "source": [
    "21/05/2025 - Arquivos"
   ]
  },
  {
   "cell_type": "code",
   "execution_count": 4,
   "metadata": {},
   "outputs": [
    {
     "name": "stdout",
     "output_type": "stream",
     "text": [
      "1 - https://www.kaggle.com/datasets/gregorut/videogamesales\n",
      "\n",
      "2 - https://www.kaggle.com/datasets/melissamonfared/video-game-console-generations\n",
      "\n",
      "3 - https://www.kaggle.com/datasets/darrylljk/magic-the-gathering-card-ratings-otj\n",
      "\n",
      "4 - https://www.kaggle.com/datasets/rounakbanik/pokemon\n",
      "\n",
      "5 - https://www.kaggle.com/datasets/CooperUnion/anime-recommendations-database\n",
      "\n",
      "\n",
      "\n",
      "\n",
      "\n",
      "\n",
      "https://home.web.cern.ch/science/computing/birth-web\n",
      "[]\n",
      "\n"
     ]
    }
   ],
   "source": [
    "arquivo = open( \"datasets.txt\")\n",
    "conteudo = arquivo.read()\n",
    "linhas = arquivo.readlines()\n",
    "comeco = arquivo.read(20)\n",
    "print(conteudo)\n",
    "print(linhas)\n",
    "print(comeco)\n",
    "arquivo.close()"
   ]
  }
 ],
 "metadata": {
  "kernelspec": {
   "display_name": "Python 3",
   "language": "python",
   "name": "python3"
  },
  "language_info": {
   "codemirror_mode": {
    "name": "ipython",
    "version": 3
   },
   "file_extension": ".py",
   "mimetype": "text/x-python",
   "name": "python",
   "nbconvert_exporter": "python",
   "pygments_lexer": "ipython3",
   "version": "3.13.1"
  }
 },
 "nbformat": 4,
 "nbformat_minor": 2
}
